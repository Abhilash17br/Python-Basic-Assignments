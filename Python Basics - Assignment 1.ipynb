{
 "cells": [
  {
   "cell_type": "markdown",
   "id": "861b7761",
   "metadata": {},
   "source": [
    "1.\n",
    "\n",
    "\"\"\"\"\n",
    "*        expression\n",
    "'hello'  value\n",
    "-87.8    value\n",
    "-        expression\n",
    "/        expression\n",
    "+        expression\n",
    "6        value\n",
    "\"\"\"\""
   ]
  },
  {
   "cell_type": "markdown",
   "id": "5ae5d28a",
   "metadata": {},
   "source": [
    "2.\n",
    "String is a Data Type that stores number of character data type.\n",
    "variable is a object for storing values of datatypes.\n",
    "string is datatype and variable stores the datatype."
   ]
  },
  {
   "cell_type": "markdown",
   "id": "ce50ded6",
   "metadata": {},
   "source": [
    "3.\n",
    "Integer - Stores numerical data\n",
    "string  - Stores Characters\n",
    "boolean - stores True or False"
   ]
  },
  {
   "cell_type": "markdown",
   "id": "fa80e81f",
   "metadata": {},
   "source": [
    "4.\n",
    "An Expression is an combination of identifiers, operators or literals to produce some Value.\n",
    "Ex - b= 2+5\n",
    "The Expressions Generally returns an value after the operation which will stored in assigned object if assigned. \n"
   ]
  },
  {
   "cell_type": "markdown",
   "id": "855004d2",
   "metadata": {},
   "source": [
    "5.\n",
    "Expressions represents a value,they are the combination of operators,operands,literals.\n",
    "Any thing than can be assigned to a variable is Expression. \n",
    "Ex- a=2+2, a = \"bar\"\n",
    "Statements are the instructions that an python can execute.\n",
    "Any thing that cannot be assigned to a variable is an Statement.\n",
    "Ex - if condition , while Condition etc"
   ]
  },
  {
   "cell_type": "markdown",
   "id": "0c9753db",
   "metadata": {},
   "source": [
    "6.\n",
    "bacon=22\n",
    "bacon+1\n",
    "\n",
    "print(bacon)\n",
    "\n",
    "Ans -- 22"
   ]
  },
  {
   "cell_type": "markdown",
   "id": "70deb1b5",
   "metadata": {},
   "source": [
    "7.\n",
    "\"spam\"+\"spamspam\"  -  'spamspamspam'\n",
    "\"spam\"*3           -  'spamspamspam'\n",
    "both has same output"
   ]
  },
  {
   "cell_type": "markdown",
   "id": "be793b15",
   "metadata": {},
   "source": [
    "8\n",
    ".\n",
    "Variable name must not begin with a number.\n",
    "therfore egg is a valid name and 100 is invalid."
   ]
  },
  {
   "cell_type": "markdown",
   "id": "d81e7a1e",
   "metadata": {},
   "source": [
    "9.\n",
    "\n",
    "input()\n",
    "print()\n",
    "type()\n",
    "\n",
    "These three functions can give all data type of values."
   ]
  },
  {
   "cell_type": "markdown",
   "id": "c628775b",
   "metadata": {},
   "source": [
    "10.\n",
    "\n",
    "\"\"\"\"\n",
    "\"i have eaten\"+99+\"burritos\"\n",
    "\n",
    "Here we are trying to add integer data type to String datatype and hence there is an error.\n",
    "\n",
    "This code can be fixed by typecasting integer to string type.\n",
    "\n",
    "a=str(99)\n",
    "#this function converts an int to string, then we can do concatenation.\n",
    "\"\"\"\n",
    "\n",
    "a=str(99)\n",
    "k=\"i have eaten\"+ a + \"burritos\"\n",
    "print(k)\n"
   ]
  }
 ],
 "metadata": {
  "kernelspec": {
   "display_name": "Python 3 (ipykernel)",
   "language": "python",
   "name": "python3"
  },
  "language_info": {
   "codemirror_mode": {
    "name": "ipython",
    "version": 3
   },
   "file_extension": ".py",
   "mimetype": "text/x-python",
   "name": "python",
   "nbconvert_exporter": "python",
   "pygments_lexer": "ipython3",
   "version": "3.9.7"
  }
 },
 "nbformat": 4,
 "nbformat_minor": 5
}
