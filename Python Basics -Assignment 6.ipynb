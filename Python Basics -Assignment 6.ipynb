{
 "cells": [
  {
   "cell_type": "markdown",
   "id": "c1a1ee89",
   "metadata": {},
   "source": [
    "Python Basic -Assignment 6\n",
    "1. What are escape characters, and how do you use them?\n",
    "2. What do the escape characters n and t stand for?\n",
    "3. What is the way to include backslash characters in a string?\n",
    "4. The string \"Howl's Moving Castle\" is a correct value. Why isn't the single quote character in the word Howl's not escaped a problem?\n",
    "5. How do you write a string of newlines if you don't want to use the n character?\n",
    "6. What are the values of the given expressions?\n",
    "'Hello, world!'[1]\n",
    "'Hello, world!'[0:5]\n",
    "'Hello, world!'[:5]\n",
    "'Hello, world!'[3:]\n",
    "\n",
    "7. What are the values of the following expressions?\n",
    "'Hello'.upper()\n",
    "'Hello'.upper().isupper()\n",
    "'Hello'.upper().lower()\n",
    "8. What are the values of the following expressions?\n",
    "'Remember, remember, the fifth of July.'.split()\n",
    "'-'.join('There can only one.'.split())\n",
    "9. What are the methods for right-justifying, left-justifying, and centering a string?\n",
    "10. What is the best way to remove whitespace characters from the start or end?"
   ]
  },
  {
   "cell_type": "markdown",
   "id": "dc1d0e5e",
   "metadata": {},
   "source": [
    "1. What are escape characters, and how do you use them?"
   ]
  },
  {
   "cell_type": "markdown",
   "id": "fc898d59",
   "metadata": {},
   "source": [
    "\"\\\" is an escape character in python string, it is used to represent certain whitespace characters like \"\\n\",\"\\t\".\n",
    "These are use to insert characters that are illegal in a string."
   ]
  },
  {
   "cell_type": "code",
   "execution_count": 1,
   "id": "154c39d2",
   "metadata": {},
   "outputs": [
    {
     "ename": "SyntaxError",
     "evalue": "invalid syntax (Temp/ipykernel_12064/1713257171.py, line 1)",
     "output_type": "error",
     "traceback": [
      "\u001b[1;36m  File \u001b[1;32m\"C:\\Users\\abhil\\AppData\\Local\\Temp/ipykernel_12064/1713257171.py\"\u001b[1;36m, line \u001b[1;32m1\u001b[0m\n\u001b[1;33m    a=\"i am learning \"fsds\" @ ineuron\"\u001b[0m\n\u001b[1;37m                      ^\u001b[0m\n\u001b[1;31mSyntaxError\u001b[0m\u001b[1;31m:\u001b[0m invalid syntax\n"
     ]
    }
   ],
   "source": [
    "a=\"i am learning \"fsds\" @ ineuron\" # trying to insert double quote inside a double quote."
   ]
  },
  {
   "cell_type": "code",
   "execution_count": 2,
   "id": "b5ea7941",
   "metadata": {},
   "outputs": [
    {
     "name": "stdout",
     "output_type": "stream",
     "text": [
      "i am learning \"fsds\" @ ineuron\n"
     ]
    }
   ],
   "source": [
    "a=\"i am learning \\\"fsds\\\" @ ineuron\" # adding backslash defore double quote,had made the use of illegal character in a string.\n",
    "print(a)"
   ]
  },
  {
   "cell_type": "markdown",
   "id": "d98a962a",
   "metadata": {},
   "source": [
    "2. What do the escape characters n and t stand for?"
   ]
  },
  {
   "cell_type": "markdown",
   "id": "d035a7a4",
   "metadata": {},
   "source": [
    "\\n - newline\n",
    "\\t - tab"
   ]
  },
  {
   "cell_type": "markdown",
   "id": "d5753a1b",
   "metadata": {},
   "source": [
    "3. What is the way to include backslash characters in a string?"
   ]
  },
  {
   "cell_type": "markdown",
   "id": "b2a3da46",
   "metadata": {},
   "source": [
    " \\\\ -  (backslash followed by backslash) represent escape character  backslash."
   ]
  },
  {
   "cell_type": "markdown",
   "id": "0e5fc59f",
   "metadata": {},
   "source": [
    "4. The string \"Howl's Moving Castle\" is a correct value. Why isn't the single quote character in the word Howl's not escaped a problem?"
   ]
  },
  {
   "cell_type": "code",
   "execution_count": 4,
   "id": "ce74e824",
   "metadata": {},
   "outputs": [],
   "source": [
    "a=\"Howl's Moving Castle\"\n",
    "# we can use single quote inside a double quote or an double quote inside a single quote,python syntax accepts it."
   ]
  },
  {
   "cell_type": "markdown",
   "id": "292a09a1",
   "metadata": {},
   "source": [
    "5. How do you write a string of newlines if you don't want to use the n character?"
   ]
  },
  {
   "cell_type": "markdown",
   "id": "e4efe107",
   "metadata": {},
   "source": [
    "Multiline string can be written to create string of newlines with out using \\n."
   ]
  },
  {
   "cell_type": "code",
   "execution_count": 9,
   "id": "63bbf17c",
   "metadata": {},
   "outputs": [
    {
     "name": "stdout",
     "output_type": "stream",
     "text": [
      " Python is a high-level, interpreted, general-purpose programming language.\n",
      "     Its design philosophy emphasizes code readability with the use of significant indentation.\n",
      "     Python is dynamically-typed and garbage-collected. \n",
      "     It supports multiple programming paradigms, including structured (particularly procedural), object-oriented and functional programming. \n",
      "     Python consistently ranks as one of the most popular programming languages.\n"
     ]
    }
   ],
   "source": [
    "a=\"\"\" Python is a high-level, interpreted, general-purpose programming language.\n",
    "     Its design philosophy emphasizes code readability with the use of significant indentation.\n",
    "     Python is dynamically-typed and garbage-collected. \n",
    "     It supports multiple programming paradigms, including structured (particularly procedural), object-oriented and functional programming. \n",
    "     Python consistently ranks as one of the most popular programming languages.\"\"\"\n",
    "print(a) # "
   ]
  },
  {
   "cell_type": "markdown",
   "id": "21c74ee5",
   "metadata": {},
   "source": [
    "6. What are the values of the given expressions?\n",
    "'Hello, world!'[1]\n",
    "'Hello, world!'[0:5]\n",
    "'Hello, world!'[:5]\n",
    "'Hello, world!'[3:]"
   ]
  },
  {
   "cell_type": "code",
   "execution_count": 14,
   "id": "3dda956c",
   "metadata": {},
   "outputs": [
    {
     "name": "stdout",
     "output_type": "stream",
     "text": [
      "e\n",
      "Hello\n",
      "Hello\n",
      "lo, world!\n"
     ]
    }
   ],
   "source": [
    "print('Hello, world!'[1]) \n",
    "print('Hello, world!'[0:5])\n",
    "print('Hello, world!'[:5])\n",
    "print('Hello, world!'[3:])"
   ]
  },
  {
   "cell_type": "markdown",
   "id": "ae005dd4",
   "metadata": {},
   "source": [
    "7. What are the values of the following expressions?\n",
    "'Hello'.upper()          \n",
    "'Hello'.upper().isupper()\n",
    "'Hello'.upper().lower()"
   ]
  },
  {
   "cell_type": "code",
   "execution_count": 16,
   "id": "c86dd1f8",
   "metadata": {},
   "outputs": [
    {
     "name": "stdout",
     "output_type": "stream",
     "text": [
      "HELLO\n"
     ]
    }
   ],
   "source": [
    "print('Hello'.upper())"
   ]
  },
  {
   "cell_type": "code",
   "execution_count": 17,
   "id": "8dd821fa",
   "metadata": {},
   "outputs": [
    {
     "name": "stdout",
     "output_type": "stream",
     "text": [
      "True\n"
     ]
    }
   ],
   "source": [
    "print('Hello'.upper().isupper())"
   ]
  },
  {
   "cell_type": "code",
   "execution_count": 18,
   "id": "95eff149",
   "metadata": {},
   "outputs": [
    {
     "name": "stdout",
     "output_type": "stream",
     "text": [
      "hello\n"
     ]
    }
   ],
   "source": [
    "print('Hello'.upper().lower())"
   ]
  },
  {
   "cell_type": "markdown",
   "id": "c2369db1",
   "metadata": {},
   "source": [
    "8. What are the values of the following expressions?\n",
    "'Remember, remember, the fifth of July.'.split() \n",
    "'-'.join('There can only one.'.split())          "
   ]
  },
  {
   "cell_type": "code",
   "execution_count": 22,
   "id": "a563b314",
   "metadata": {},
   "outputs": [
    {
     "name": "stdout",
     "output_type": "stream",
     "text": [
      "['Remember,', 'remember,', 'the', 'fifth', 'of', 'July.']\n"
     ]
    }
   ],
   "source": [
    "print('Remember, remember, the fifth of July.'.split())"
   ]
  },
  {
   "cell_type": "code",
   "execution_count": 33,
   "id": "302ff1b8",
   "metadata": {},
   "outputs": [
    {
     "name": "stdout",
     "output_type": "stream",
     "text": [
      "['There', 'can', 'only', 'one.']\n"
     ]
    }
   ],
   "source": [
    "k='There can only one.'.split()\n",
    "print(k)"
   ]
  },
  {
   "cell_type": "code",
   "execution_count": 30,
   "id": "d6212c3c",
   "metadata": {},
   "outputs": [
    {
     "data": {
      "text/plain": [
       "'There-can-only-one.'"
      ]
     },
     "execution_count": 30,
     "metadata": {},
     "output_type": "execute_result"
    }
   ],
   "source": [
    "'-'.join(k)"
   ]
  },
  {
   "cell_type": "code",
   "execution_count": 28,
   "id": "ee28f656",
   "metadata": {},
   "outputs": [
    {
     "data": {
      "text/plain": [
       "'There-can-only-one.'"
      ]
     },
     "execution_count": 28,
     "metadata": {},
     "output_type": "execute_result"
    }
   ],
   "source": [
    "'-'.join(k)"
   ]
  },
  {
   "cell_type": "markdown",
   "id": "2aa518cc",
   "metadata": {},
   "source": [
    "9. What are the methods for right-justifying, left-justifying, and centering a string?"
   ]
  },
  {
   "cell_type": "code",
   "execution_count": 39,
   "id": "10176084",
   "metadata": {},
   "outputs": [
    {
     "name": "stdout",
     "output_type": "stream",
     "text": [
      "****************Abhi\n",
      "Abhi****************\n",
      "********Abhi********\n"
     ]
    }
   ],
   "source": [
    "# rjust(), ljust(), and center()\n",
    "\n",
    "a=\"Abhi\"\n",
    "print(a.rjust(20,\"*\"))\n",
    "print(a.ljust(20,\"*\"))\n",
    "print(a.center(20,\"*\"))"
   ]
  },
  {
   "cell_type": "markdown",
   "id": "e8014d84",
   "metadata": {},
   "source": [
    "10. What is the best way to remove whitespace characters from the start or end?"
   ]
  },
  {
   "cell_type": "code",
   "execution_count": null,
   "id": "fb2db1b3",
   "metadata": {},
   "outputs": [],
   "source": [
    "10. What is the best way to remove whitespace characters from the start or end"
   ]
  },
  {
   "cell_type": "code",
   "execution_count": 41,
   "id": "a123a219",
   "metadata": {},
   "outputs": [
    {
     "name": "stdout",
     "output_type": "stream",
     "text": [
      "I am Doing Fine  \n",
      "  I am Doing Fine\n",
      "I am Doing Fine\n"
     ]
    }
   ],
   "source": [
    "# lstrip(),rstrip(),strip()\n",
    "a=\"  I am Doing Fine  \"\n",
    "print(a.lstrip()) # removes spaces on left\n",
    "print(a.rstrip()) # removes spaces on right\n",
    "print(a.strip())  # removes any spaces on both lef and right"
   ]
  },
  {
   "cell_type": "code",
   "execution_count": null,
   "id": "45d1fa6b",
   "metadata": {},
   "outputs": [],
   "source": []
  }
 ],
 "metadata": {
  "kernelspec": {
   "display_name": "Python 3 (ipykernel)",
   "language": "python",
   "name": "python3"
  },
  "language_info": {
   "codemirror_mode": {
    "name": "ipython",
    "version": 3
   },
   "file_extension": ".py",
   "mimetype": "text/x-python",
   "name": "python",
   "nbconvert_exporter": "python",
   "pygments_lexer": "ipython3",
   "version": "3.9.7"
  }
 },
 "nbformat": 4,
 "nbformat_minor": 5
}
