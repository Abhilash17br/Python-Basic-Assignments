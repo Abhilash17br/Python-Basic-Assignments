{
 "cells": [
  {
   "cell_type": "markdown",
   "id": "dae490fb",
   "metadata": {},
   "source": [
    "1. What exactly is []?"
   ]
  },
  {
   "cell_type": "code",
   "execution_count": null,
   "id": "3ed99caa",
   "metadata": {},
   "outputs": [],
   "source": [
    "These are used for List Representation.\n",
    "l=[], represents an empty list\n",
    "l[], represents list indexing operation\n",
    "\"sudh\"[], represents an string indexing operation."
   ]
  },
  {
   "cell_type": "markdown",
   "id": "f154e02f",
   "metadata": {},
   "source": [
    "2. In a list of values stored in a variable called spam, how would you assign the value 'hello' as the third value? (Assume [2, 4, 6, 8, 10] are in spam.)"
   ]
  },
  {
   "cell_type": "code",
   "execution_count": 7,
   "id": "7deb91f0",
   "metadata": {},
   "outputs": [
    {
     "name": "stdout",
     "output_type": "stream",
     "text": [
      "[2, 4, 6, 8, 10]\n",
      "[2, 4, 'hello', 8, 10]\n",
      "[2, 4, 6, 8, 10]\n",
      "[2, 4, 'hello', 6, 8, 10]\n"
     ]
    }
   ],
   "source": [
    "# ressigning vaule at index 2\n",
    "spam = [2,4,6,8,10]\n",
    "print(spam)\n",
    "spam[2]=\"hello\"\n",
    "print(spam)\n",
    "\n",
    "# inserting value at index 2\n",
    "spam = [2,4,6,8,10]\n",
    "print(spam)\n",
    "spam.insert(2,\"hello\")\n",
    "print(spam)"
   ]
  },
  {
   "cell_type": "code",
   "execution_count": 8,
   "id": "f1dc9524",
   "metadata": {},
   "outputs": [],
   "source": [
    "spam = ['a','b','c','d']"
   ]
  },
  {
   "cell_type": "markdown",
   "id": "92002ef3",
   "metadata": {},
   "source": [
    "3. What is the value of spam[int(int('3' * 2) / 11)]?"
   ]
  },
  {
   "cell_type": "code",
   "execution_count": 14,
   "id": "bd07cb19",
   "metadata": {},
   "outputs": [
    {
     "data": {
      "text/plain": [
       "'d'"
      ]
     },
     "execution_count": 14,
     "metadata": {},
     "output_type": "execute_result"
    }
   ],
   "source": [
    "spam[int(int('3' * 2) / 11)]"
   ]
  },
  {
   "cell_type": "markdown",
   "id": "4b86939e",
   "metadata": {},
   "source": [
    "4. What is the value of spam[-1]?"
   ]
  },
  {
   "cell_type": "code",
   "execution_count": 17,
   "id": "49285e6b",
   "metadata": {},
   "outputs": [
    {
     "data": {
      "text/plain": [
       "'d'"
      ]
     },
     "execution_count": 17,
     "metadata": {},
     "output_type": "execute_result"
    }
   ],
   "source": [
    "spam[-1]"
   ]
  },
  {
   "cell_type": "markdown",
   "id": "d43df73e",
   "metadata": {},
   "source": [
    "5. What is the value of spam[:2]?"
   ]
  },
  {
   "cell_type": "code",
   "execution_count": 18,
   "id": "cfc22163",
   "metadata": {},
   "outputs": [
    {
     "data": {
      "text/plain": [
       "['a', 'b']"
      ]
     },
     "execution_count": 18,
     "metadata": {},
     "output_type": "execute_result"
    }
   ],
   "source": [
    "spam[:2]"
   ]
  },
  {
   "cell_type": "code",
   "execution_count": 19,
   "id": "85c2da64",
   "metadata": {},
   "outputs": [],
   "source": [
    "bacon=[3.14,'cat',11,'cat',True]"
   ]
  },
  {
   "cell_type": "markdown",
   "id": "efece193",
   "metadata": {},
   "source": [
    "6. What is the value of bacon.index('cat')?"
   ]
  },
  {
   "cell_type": "code",
   "execution_count": 20,
   "id": "8aae082a",
   "metadata": {},
   "outputs": [
    {
     "data": {
      "text/plain": [
       "1"
      ]
     },
     "execution_count": 20,
     "metadata": {},
     "output_type": "execute_result"
    }
   ],
   "source": [
    "bacon.index('cat')"
   ]
  },
  {
   "cell_type": "markdown",
   "id": "e849f46b",
   "metadata": {},
   "source": [
    "7. How does bacon.append(99) change the look of the list value in bacon?"
   ]
  },
  {
   "cell_type": "code",
   "execution_count": 23,
   "id": "b3cac2dc",
   "metadata": {},
   "outputs": [
    {
     "name": "stdout",
     "output_type": "stream",
     "text": [
      "[3.14, 'cat', 11, 'cat', True, 99, 99]\n"
     ]
    }
   ],
   "source": [
    "bacon.append(99)  ## adds 99 at the last index to the list bacon\n",
    "print(bacon)"
   ]
  },
  {
   "cell_type": "markdown",
   "id": "75bb5a22",
   "metadata": {},
   "source": [
    "8. How does bacon.remove('cat') change the look of the list in bacon?"
   ]
  },
  {
   "cell_type": "code",
   "execution_count": 25,
   "id": "1e19e456",
   "metadata": {},
   "outputs": [
    {
     "name": "stdout",
     "output_type": "stream",
     "text": [
      "[3.14, 11, 'cat', True]\n"
     ]
    }
   ],
   "source": [
    "bacon=[3.14,'cat',11,'cat',True]\n",
    "\n",
    "bacon.remove('cat') ## removes the \"cat\" , at its first apperance.\n",
    "\n",
    "print(bacon)"
   ]
  },
  {
   "cell_type": "markdown",
   "id": "4f1ef170",
   "metadata": {},
   "source": [
    "9. What are the list concatenation and list replication operators?"
   ]
  },
  {
   "cell_type": "code",
   "execution_count": 26,
   "id": "f103d033",
   "metadata": {},
   "outputs": [
    {
     "name": "stdout",
     "output_type": "stream",
     "text": [
      "[2, 3, 4, 5, 6, 7]\n",
      "[2, 3, 4, 2, 3, 4, 2, 3, 4]\n"
     ]
    }
   ],
   "source": [
    "# for list concatenation we use \"+\" operator\n",
    "# for list replication, ie multiplication of list we use \"*\" operator\n",
    "\n",
    "#list concatenation\n",
    "l=[2,3,4]\n",
    "l1=[5,6,7]\n",
    "print(l+l1)\n",
    "\n",
    "#list replication\n",
    "\n",
    "print(l*3)"
   ]
  },
  {
   "cell_type": "markdown",
   "id": "465d8323",
   "metadata": {},
   "source": [
    "10. What is difference between the list methods append() and insert()?"
   ]
  },
  {
   "cell_type": "code",
   "execution_count": 30,
   "id": "a2b9bea1",
   "metadata": {},
   "outputs": [
    {
     "name": "stdout",
     "output_type": "stream",
     "text": [
      "insert function\n",
      "[2, 3, 4]\n",
      "[2, 3, 'abhi', 4]\n",
      "append function\n",
      "[2, 3, 4]\n",
      "[2, 3, 4, 'abhi']\n"
     ]
    }
   ],
   "source": [
    "# .insert()\n",
    "# insert adds the element to index position defined in the function signsture.\n",
    "#using insert we cannot add element to last index\n",
    "print(\"insert function\")\n",
    "l=[2,3,4]\n",
    "print(l)\n",
    "l.insert(2,\"abhi\")\n",
    "print(l)\n",
    "\n",
    "# .append()\n",
    "# append adds the element to last index of list.\n",
    "# here we cannot define the index postion to where the element is to be added\n",
    "print(\"append function\")\n",
    "l=[2,3,4]\n",
    "print(l)\n",
    "l.append(\"abhi\")\n",
    "print(l)"
   ]
  },
  {
   "cell_type": "markdown",
   "id": "70dd9bf0",
   "metadata": {},
   "source": [
    "11. What are the two methods for removing items from a list?"
   ]
  },
  {
   "cell_type": "code",
   "execution_count": 38,
   "id": "e1b78f9a",
   "metadata": {},
   "outputs": [
    {
     "name": "stdout",
     "output_type": "stream",
     "text": [
      "[2, 3, 4, 'abhi', 'python', 11]\n",
      "[2, 3, 4, 'python', 11]\n",
      "[2, 3, 4, 11]\n"
     ]
    }
   ],
   "source": [
    "#1\n",
    "l=[2, 3, 4, 'abhi',\"python\",11]\n",
    "print(l)\n",
    "l.remove(\"abhi\")\n",
    "print(l)\n",
    "\n",
    "#2\n",
    "l.pop(-2)\n",
    "print(l)\n"
   ]
  },
  {
   "cell_type": "markdown",
   "id": "259c48ec",
   "metadata": {},
   "source": [
    "12. Describe how list values and string values are identical."
   ]
  },
  {
   "cell_type": "code",
   "execution_count": 1,
   "id": "0294ba3c",
   "metadata": {},
   "outputs": [
    {
     "name": "stdout",
     "output_type": "stream",
     "text": [
      "ineuron\n",
      "['i', 'n', 'e', 'u', 'r', 'o', 'n']\n"
     ]
    }
   ],
   "source": [
    "s=\"ineuron\"\n",
    "l=list(s)\n",
    "print(s)\n",
    "print(l)"
   ]
  },
  {
   "cell_type": "code",
   "execution_count": 13,
   "id": "ba8cb647",
   "metadata": {},
   "outputs": [
    {
     "name": "stdout",
     "output_type": "stream",
     "text": [
      "i i\n",
      "ineuron\n",
      "norueni\n",
      "['i', 'n', 'e', 'u', 'r', 'o', 'n']\n",
      "['n', 'o', 'r', 'u', 'e', 'n', 'i']\n"
     ]
    }
   ],
   "source": [
    "print(s[0],l[0])\n",
    "print(s[0:len(s)])\n",
    "print(s[::-1])\n",
    "print(l[0:len(s)])\n",
    "print(l[::-1])\n",
    "\n",
    "#The Indexing operation in list and string is similar, since both work in a sequence."
   ]
  },
  {
   "cell_type": "markdown",
   "id": "a596cfcb",
   "metadata": {},
   "source": [
    "13. What's the difference between tuples and lists?"
   ]
  },
  {
   "cell_type": "code",
   "execution_count": 28,
   "id": "75b9b9a3",
   "metadata": {},
   "outputs": [
    {
     "ename": "TypeError",
     "evalue": "'tuple' object does not support item assignment",
     "output_type": "error",
     "traceback": [
      "\u001b[1;31m---------------------------------------------------------------------------\u001b[0m",
      "\u001b[1;31mTypeError\u001b[0m                                 Traceback (most recent call last)",
      "\u001b[1;32m~\\AppData\\Local\\Temp/ipykernel_24480/2804289422.py\u001b[0m in \u001b[0;36m<module>\u001b[1;34m\u001b[0m\n\u001b[0;32m      1\u001b[0m \u001b[1;31m# tuple is immutable object\u001b[0m\u001b[1;33m\u001b[0m\u001b[1;33m\u001b[0m\u001b[0m\n\u001b[0;32m      2\u001b[0m \u001b[0mt\u001b[0m\u001b[1;33m=\u001b[0m\u001b[1;33m(\u001b[0m\u001b[1;36m1\u001b[0m\u001b[1;33m,\u001b[0m\u001b[1;36m2\u001b[0m\u001b[1;33m,\u001b[0m\u001b[1;36m3\u001b[0m\u001b[1;33m,\u001b[0m\u001b[1;34m\"fsds\"\u001b[0m\u001b[1;33m,\u001b[0m\u001b[1;36m5\u001b[0m\u001b[1;33m)\u001b[0m\u001b[1;33m\u001b[0m\u001b[1;33m\u001b[0m\u001b[0m\n\u001b[1;32m----> 3\u001b[1;33m \u001b[0mt\u001b[0m\u001b[1;33m[\u001b[0m\u001b[1;36m0\u001b[0m\u001b[1;33m]\u001b[0m\u001b[1;33m=\u001b[0m\u001b[1;34m\"ineuron\"\u001b[0m \u001b[1;31m# value reassigning not possible\u001b[0m\u001b[1;33m\u001b[0m\u001b[1;33m\u001b[0m\u001b[0m\n\u001b[0m\u001b[0;32m      4\u001b[0m \u001b[0mprint\u001b[0m\u001b[1;33m(\u001b[0m\u001b[0mt\u001b[0m\u001b[1;33m)\u001b[0m\u001b[1;33m\u001b[0m\u001b[1;33m\u001b[0m\u001b[0m\n",
      "\u001b[1;31mTypeError\u001b[0m: 'tuple' object does not support item assignment"
     ]
    }
   ],
   "source": [
    "# tuple is immutable object\n",
    "t=(1,2,3,\"fsds\",5) \n",
    "t[0]=\"ineuron\" # value reassigning not possible\n",
    "print(t)"
   ]
  },
  {
   "cell_type": "code",
   "execution_count": 21,
   "id": "dfd6d70f",
   "metadata": {},
   "outputs": [
    {
     "name": "stdout",
     "output_type": "stream",
     "text": [
      "['ineuron', 2, 3, 4, 5]\n"
     ]
    }
   ],
   "source": [
    "# list is mutable object\n",
    "l=[1,2,3,4,5]\n",
    "l[0]=\"ineuron\" # value reassigning possible\n",
    "print(l)"
   ]
  },
  {
   "cell_type": "markdown",
   "id": "bb24f2db",
   "metadata": {},
   "source": [
    "14. How do you type a tuple value that only contains the integer 42?"
   ]
  },
  {
   "cell_type": "code",
   "execution_count": 27,
   "id": "850673c6",
   "metadata": {},
   "outputs": [
    {
     "data": {
      "text/plain": [
       "tuple"
      ]
     },
     "execution_count": 27,
     "metadata": {},
     "output_type": "execute_result"
    }
   ],
   "source": [
    "t=(42,)\n",
    "type(t)"
   ]
  },
  {
   "cell_type": "markdown",
   "id": "489fc253",
   "metadata": {},
   "source": [
    "15. How do you get a list value's tuple form? How do you get a tuple value's list form?"
   ]
  },
  {
   "cell_type": "code",
   "execution_count": 36,
   "id": "61be4930",
   "metadata": {},
   "outputs": [
    {
     "name": "stdout",
     "output_type": "stream",
     "text": [
      "('ineuron', 2, 8, 'fsds', 6)\n",
      "('ineuron', 2, 8, 'fsds', 6)\n",
      "('ineuron', 2, 8, 'fsds', 6)\n"
     ]
    }
   ],
   "source": [
    "# to convert list to tuple\n",
    "#method 1\n",
    "l=[\"ineuron\",2,8,\"fsds\",6]\n",
    "print(tuple(l))\n",
    "\n",
    "# method 2\n",
    "l=[\"ineuron\",2,8,\"fsds\",6]\n",
    "t =tuple(i for i in l)\n",
    "print(t)\n",
    "\n",
    "# method 3\n",
    "k=(*l,) \n",
    "print(k)"
   ]
  },
  {
   "cell_type": "code",
   "execution_count": 45,
   "id": "af28f295",
   "metadata": {},
   "outputs": [
    {
     "name": "stdout",
     "output_type": "stream",
     "text": [
      "['ineuron', 2, 8, 'fsds', 6]\n",
      "['ineuron', 2, 8, 'fsds', 6]\n",
      "['ineuron', 2, 8, 'fsds', 6]\n"
     ]
    }
   ],
   "source": [
    "# to convert tuple to list\n",
    "\n",
    "#method 1\n",
    "t=(\"ineuron\",2,8,\"fsds\",6)\n",
    "print(list(t))\n",
    "\n",
    "# method 2\n",
    "t=(\"ineuron\",2,8,\"fsds\",6)\n",
    "l = [i for i in t]\n",
    "print(l)\n",
    "\n",
    "# method 3\n",
    "k=[*t,]\n",
    "print(k)"
   ]
  },
  {
   "cell_type": "code",
   "execution_count": 46,
   "id": "b30caf27",
   "metadata": {},
   "outputs": [],
   "source": [
    "#list containing tuples\n",
    "l=[(2,3,4),(\"ineuron\",\"s\",\"k\")]\n",
    "\n",
    "#tuple containing list\n",
    "t=([2,3,4],[\"ineuron\",\"s\",\"k\"])"
   ]
  },
  {
   "cell_type": "markdown",
   "id": "35bd3f92",
   "metadata": {},
   "source": [
    "16. Variables that \"contain\" list values are not necessarily lists themselves. Instead, what do they contain?"
   ]
  },
  {
   "cell_type": "markdown",
   "id": "d4c99395",
   "metadata": {},
   "source": [
    "Variables will contain references to list values rather than list values themselves.\n",
    "For all the iterable objects except string the variables contain the refrences to the respective obj values."
   ]
  },
  {
   "cell_type": "markdown",
   "id": "88da31ae",
   "metadata": {},
   "source": [
    "17. How do you distinguish between copy.copy() and copy.deepcopy()?"
   ]
  },
  {
   "cell_type": "markdown",
   "id": "cc839d9f",
   "metadata": {},
   "source": [
    "The copy.copy() function will do a shallow copy of a list, while the copy.deepcopy() function will do a deep copy of a list."
   ]
  },
  {
   "cell_type": "code",
   "execution_count": 16,
   "id": "5d705fe3",
   "metadata": {},
   "outputs": [
    {
     "name": "stdout",
     "output_type": "stream",
     "text": [
      "Old list: [[1, 1, 1], [2, 'abhi', 2], [3, 3, 3]]\n",
      "New list: [[1, 1, 1], [2, 'abhi', 2], [3, 3, 3]]\n"
     ]
    }
   ],
   "source": [
    "# copy.copy() \n",
    "# A shallow copy creates a new object which stores the reference of the original elements.\n",
    "import copy\n",
    "\n",
    "old_list = [[1, 1, 1], [2, 2, 2], [3, 3, 3]]\n",
    "new_list = copy.copy(old_list)\n",
    "\n",
    "old_list[1][1] = 'abhi'\n",
    "\n",
    "print(\"Old list:\", old_list)\n",
    "print(\"New list:\", new_list)\n",
    "\n",
    "# changes seen in both old and new list."
   ]
  },
  {
   "cell_type": "code",
   "execution_count": 17,
   "id": "df3b8ee9",
   "metadata": {},
   "outputs": [
    {
     "name": "stdout",
     "output_type": "stream",
     "text": [
      "Old list: [[1, 1, 1], ['abhi', 2, 2], [3, 3, 3]]\n",
      "New list: [[1, 1, 1], [2, 2, 2], [3, 3, 3]]\n"
     ]
    }
   ],
   "source": [
    "# copy.deepcopy() \n",
    "# A deep copy creates a new object and recursively adds the copies of nested objects present in the original elements.\n",
    "import copy\n",
    "\n",
    "old_list = [[1, 1, 1], [2, 2, 2], [3, 3, 3]]\n",
    "new_list = copy.deepcopy(old_list)\n",
    "\n",
    "old_list[1][0] = 'abhi'\n",
    "\n",
    "print(\"Old list:\", old_list)\n",
    "print(\"New list:\", new_list)\n",
    "\n",
    "# new list and old list operates differently."
   ]
  },
  {
   "cell_type": "code",
   "execution_count": null,
   "id": "bb49f504",
   "metadata": {},
   "outputs": [],
   "source": []
  }
 ],
 "metadata": {
  "kernelspec": {
   "display_name": "Python 3 (ipykernel)",
   "language": "python",
   "name": "python3"
  },
  "language_info": {
   "codemirror_mode": {
    "name": "ipython",
    "version": 3
   },
   "file_extension": ".py",
   "mimetype": "text/x-python",
   "name": "python",
   "nbconvert_exporter": "python",
   "pygments_lexer": "ipython3",
   "version": "3.9.7"
  }
 },
 "nbformat": 4,
 "nbformat_minor": 5
}
